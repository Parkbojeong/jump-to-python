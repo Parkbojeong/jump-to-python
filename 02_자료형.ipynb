{
 "cells": [
  {
   "cell_type": "markdown",
   "metadata": {},
   "source": [
    "# 2_자료형"
   ]
  },
  {
   "cell_type": "markdown",
   "metadata": {},
   "source": [
    "## 02-1. 숫자형\n",
    "1. 정수형(integer)\n",
    "2. 실수형(floating-point)\n",
    "3. 8진수와 16진수"
   ]
  },
  {
   "cell_type": "code",
   "execution_count": 3,
   "metadata": {
    "collapsed": true,
    "scrolled": true
   },
   "outputs": [],
   "source": [
    "a = 5 #정수형\n",
    "b = 3.5 #실수형\n",
    "c = 0o177 #8진수 : 0o로 시작"
   ]
  },
  {
   "cell_type": "code",
   "execution_count": 18,
   "metadata": {
    "scrolled": true
   },
   "outputs": [
    {
     "name": "stdout",
     "output_type": "stream",
     "text": [
      "7\n",
      "125\n",
      "1\n",
      "1\n"
     ]
    }
   ],
   "source": [
    "### 숫자형 연산자\n",
    "print(5 + 2) #사칙연산(+,-,*,/)\n",
    "print(5**3) #제곱\n",
    "print(4//3) #몫\n",
    "print(4%3) #나머지"
   ]
  },
  {
   "cell_type": "markdown",
   "metadata": {},
   "source": [
    "## 02-2. 문자열 자료형\n",
    "1. \"string\"\n",
    "2. 'string'\n",
    "3. \"\"\"string\"\"\"\n",
    "4. '''string'''"
   ]
  },
  {
   "cell_type": "code",
   "execution_count": 20,
   "metadata": {},
   "outputs": [
    {
     "name": "stdout",
     "output_type": "stream",
     "text": [
      "Python's favorite food\n",
      "\"Python is very easy.\" he says.\n",
      "Python's favorite food\n",
      "\"Python is very easy.\" he says.\n"
     ]
    }
   ],
   "source": [
    "### 문자열 안에 ',\" 포함\n",
    "string1 = \"Python's favorite food\"\n",
    "string2 = '\"Python is very easy.\" he says.'\n",
    "string12 = 'Python\\'s favorite food' #따옴표 앞에 \\사용\n",
    "string22 = \"\\\"Python is very easy.\\\" he says.\"\n",
    "\n",
    "print(string1)\n",
    "print(string2)\n",
    "print(string12)\n",
    "print(string22)"
   ]
  },
  {
   "cell_type": "code",
   "execution_count": 22,
   "metadata": {},
   "outputs": [
    {
     "name": "stdout",
     "output_type": "stream",
     "text": [
      "\n",
      "Life is too short\n",
      "You need python\n",
      "\n"
     ]
    }
   ],
   "source": [
    "### 여러 줄인 문자열 : \\n로 줄바꿈 또는 '''/\"\"\"\n",
    "multiline = \"Life is too short\\nYou need python\"\n",
    "multiline = '''\n",
    "Life is too short\n",
    "You need python\n",
    "'''\n",
    "print(multiline)"
   ]
  },
  {
   "cell_type": "markdown",
   "metadata": {},
   "source": [
    "#### 이스케이프 코드\n",
    "|코드|설명|\n",
    "|----|----|\n",
    "|\\n|줄바꿈|\n",
    "|\\t|탭 간격|\n",
    "|\\\\'|'를 그대로 표현|\n",
    "|\\\\\"|\"를 그대로 표현|\n",
    "|\\\\\\\\|\\를 그대로 표현|"
   ]
  },
  {
   "cell_type": "markdown",
   "metadata": {},
   "source": [
    "### 문자열 연산"
   ]
  },
  {
   "cell_type": "code",
   "execution_count": 26,
   "metadata": {},
   "outputs": [
    {
     "name": "stdout",
     "output_type": "stream",
     "text": [
      "Python is fun!\n",
      "pythonpython\n",
      "17\n"
     ]
    }
   ],
   "source": [
    "### 문자열 더하기\n",
    "head = \"Python\"\n",
    "tail = \" is fun!\"\n",
    "print(head+tail)\n",
    "\n",
    "### 문자열 곱하기\n",
    "a = \"python\"\n",
    "print(a*2)\n",
    "\n",
    "### 문자열 길이 구하기\n",
    "a = \"life is too short\"\n",
    "print(len(a))"
   ]
  },
  {
   "cell_type": "markdown",
   "metadata": {},
   "source": [
    "### 문자열 인덱싱과 슬라이싱"
   ]
  },
  {
   "cell_type": "code",
   "execution_count": 28,
   "metadata": {},
   "outputs": [
    {
     "name": "stdout",
     "output_type": "stream",
     "text": [
      "L\n",
      "i\n",
      "f\n",
      "r\n",
      "t\n"
     ]
    }
   ],
   "source": [
    "### 문자열 인덱싱\n",
    "a = 'Life is too short'\n",
    "print(a[0])\n",
    "print(a[1])\n",
    "print(a[2])\n",
    "print(a[-2])\n",
    "print(a[-1])"
   ]
  },
  {
   "cell_type": "markdown",
   "metadata": {},
   "source": [
    "- 파이썬은 0부터 순서를 센다.\n",
    "- '-n'은 뒤에서 n번째 문자를 말한다."
   ]
  },
  {
   "cell_type": "code",
   "execution_count": 33,
   "metadata": {},
   "outputs": [
    {
     "name": "stdout",
     "output_type": "stream",
     "text": [
      "Life\n",
      "Life\n",
      "short\n",
      "Life is too short\n",
      "short\n"
     ]
    }
   ],
   "source": [
    "### 문자열 슬라이싱\n",
    "print(a[0:4]) #0부터 3까지(마지막 번호 제외)\n",
    "print(a[:4]) #시작 번호 생략시 0부터\n",
    "print(a[12:]) #끝 번호 생략시 끝까지\n",
    "print(a[:]) #처음부터 끝\n",
    "print(a[-5:]) # -기호 사용가능"
   ]
  },
  {
   "cell_type": "markdown",
   "metadata": {},
   "source": [
    "- 슬라이싱에서 마지막 번호는 제외한다."
   ]
  },
  {
   "cell_type": "code",
   "execution_count": 39,
   "metadata": {},
   "outputs": [
    {
     "name": "stdout",
     "output_type": "stream",
     "text": [
      "2001\n",
      "0331\n",
      "Rainy\n"
     ]
    }
   ],
   "source": [
    "### 슬라이싱으로 문자열 나누기\n",
    "a = \"20010331Rainy\"\n",
    "year = a[:4]\n",
    "day = a[4:8]\n",
    "weather = a[8:]\n",
    "\n",
    "print(year)\n",
    "print(day)\n",
    "print(weather)"
   ]
  },
  {
   "cell_type": "markdown",
   "metadata": {},
   "source": [
    "### 문자열 포매팅\n",
    "문자열 안에 어떤 값을 삽입하는 방법이다."
   ]
  },
  {
   "cell_type": "code",
   "execution_count": 42,
   "metadata": {},
   "outputs": [
    {
     "name": "stdout",
     "output_type": "stream",
     "text": [
      "I eat 3 apples.\n",
      "I eat five apples.\n",
      "I eat 3 apples.\n",
      "I ate 3 apples. So I was sick five days\n"
     ]
    }
   ],
   "source": [
    "### 1.숫자 바로 대입\n",
    "print(\"I eat %d apples.\" % 3)\n",
    "\n",
    "### 2. 문자열 바로 대입\n",
    "print(\"I eat %s apples.\" % \"five\")\n",
    "\n",
    "### 3. 숫자 값을 나타내는 변수로 대입\n",
    "number = 3\n",
    "print(\"I eat %d apples.\" % number)\n",
    "\n",
    "### 4. 2개 이상의 값 넣기\n",
    "number = 3\n",
    "day = \"five\"\n",
    "print(\"I ate %d apples. So I was sick %s days\" % (number, day))"
   ]
  },
  {
   "cell_type": "code",
   "execution_count": null,
   "metadata": {},
   "outputs": [],
   "source": []
  },
  {
   "cell_type": "code",
   "execution_count": null,
   "metadata": {},
   "outputs": [],
   "source": []
  },
  {
   "cell_type": "markdown",
   "metadata": {},
   "source": [
    "### 문자열 관련 함수들\n",
    "- count(a) : 특정 문자의 개수를 센다.\n",
    "- find(a) : 특정 문자의 위치를 반환한다. 찾는 문자가 존재하지 않으면 -1을 반환한다.\n",
    "- index(a) : 특정 문자의 위치를 반환한다. 찾는 문자가 존재하지 않으면 오류가 발생한다.\n",
    "\n",
    "- join(a) : 문자열 a의 각각 문자 사이에 문자열을 삽입한다.\n",
    "- replace(old,new) : old 문자열을 new 문자열로 변경한다.\n",
    "- split(a) : 문자열을 특정 문자열을 구분자 기준으로 분리하여 리스트에 넣는다. 구분자를 지정하지 않으면 공백을 기준으로 분리한다.\n",
    "\n",
    "- upper() : 문자열의 소문자를 대문자로 변경한다.\n",
    "- lower() : 문자열의 대문자를 소문자로 변경한다.\n",
    "- lstrip() : 왼쪽 공백을 지운다.\n",
    "- rstrip() : 오른쪽 공백을 지운다.\n",
    "- strip() : 양쪽 공백을 지운다."
   ]
  },
  {
   "cell_type": "code",
   "execution_count": 45,
   "metadata": {},
   "outputs": [
    {
     "name": "stdout",
     "output_type": "stream",
     "text": [
      "2\n",
      "14\n",
      "14\n",
      "-1\n"
     ]
    }
   ],
   "source": [
    "### count\n",
    "a = \"hobby\"\n",
    "print(a.count('b'))\n",
    "\n",
    "### find/index\n",
    "a = \"Python is the best choice\"\n",
    "print(a.find('b'))\n",
    "print(a.index('b'))\n",
    "print(a.find('k'))\n",
    "#print(a.index('k')) error"
   ]
  },
  {
   "cell_type": "code",
   "execution_count": 48,
   "metadata": {},
   "outputs": [
    {
     "name": "stdout",
     "output_type": "stream",
     "text": [
      "a,b,c,d\n",
      "a,b,c,d\n",
      "Your leg is too short\n",
      "['Life', 'is', 'too', 'short']\n",
      "['a', 'b', 'c', 'd']\n"
     ]
    }
   ],
   "source": [
    "### join\n",
    "print(\",\".join('abcd'))\n",
    "print(\",\".join(['a','b','c','d'])) #리스트나 튜플에도 사용가능\n",
    "\n",
    "### replace\n",
    "a = \"Life is too short\"\n",
    "print(a.replace('Life','Your leg'))\n",
    "\n",
    "### split\n",
    "a = 'Life is too short'\n",
    "print(a.split())\n",
    "b = \"a:b:c:d\"\n",
    "print(b.split(':'))"
   ]
  },
  {
   "cell_type": "code",
   "execution_count": 49,
   "metadata": {},
   "outputs": [
    {
     "name": "stdout",
     "output_type": "stream",
     "text": [
      "HI\n",
      "hi\n",
      "hi \n",
      " hi\n",
      "hi\n"
     ]
    }
   ],
   "source": [
    "### upper, lower\n",
    "a = \"hi\"\n",
    "A = \"HI\"\n",
    "print(a.upper())\n",
    "print(A.lower())\n",
    "\n",
    "### lstrip, rstrip, strip\n",
    "a = \" hi \"\n",
    "print(a.lstrip())\n",
    "print(a.rstrip())\n",
    "print(a.strip())"
   ]
  }
 ],
 "metadata": {
  "kernelspec": {
   "display_name": "Python 3",
   "language": "python",
   "name": "python3"
  },
  "language_info": {
   "codemirror_mode": {
    "name": "ipython",
    "version": 3
   },
   "file_extension": ".py",
   "mimetype": "text/x-python",
   "name": "python",
   "nbconvert_exporter": "python",
   "pygments_lexer": "ipython3",
   "version": "3.7.3"
  }
 },
 "nbformat": 4,
 "nbformat_minor": 2
}
